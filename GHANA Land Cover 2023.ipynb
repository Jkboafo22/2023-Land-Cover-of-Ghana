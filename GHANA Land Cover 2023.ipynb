{
 "cells": [
  {
   "cell_type": "code",
   "execution_count": 1,
   "id": "9ce902f9",
   "metadata": {},
   "outputs": [],
   "source": [
    "# Importing libraries and modules\n",
    "\n",
    "import os\n",
    "import ee\n",
    "import geemap\n",
    "import pandas as pd\n",
    "import geopandas as gpd\n",
    "import numpy as np\n",
    "import matplotlib.pyplot as plt"
   ]
  },
  {
   "cell_type": "code",
   "execution_count": 6,
   "id": "73e8a380",
   "metadata": {},
   "outputs": [],
   "source": [
    "#Lets Authenticate and Initialize Earth Engine\n",
    "#ee.Authenticate()"
   ]
  },
  {
   "cell_type": "code",
   "execution_count": 7,
   "id": "8f738848",
   "metadata": {},
   "outputs": [],
   "source": [
    "ee.Initialize()"
   ]
  },
  {
   "cell_type": "code",
   "execution_count": 8,
   "id": "d9c53635",
   "metadata": {},
   "outputs": [],
   "source": [
    "#Loading shapefile(aoi)using Geopandas\n",
    "\n",
    "GH_shp = gpd.read_file('C:/Users/user/Documents/GEEMAP Projects/Data/GHANA BD/GHANA_BD.shp')"
   ]
  },
  {
   "cell_type": "code",
   "execution_count": 9,
   "id": "dd2a6154",
   "metadata": {},
   "outputs": [],
   "source": [
    "#Creating a geojson representation for a geopandas Dataframe \n",
    "GH_geojson = geemap.gdf_to_ee(GH_shp)"
   ]
  },
  {
   "cell_type": "code",
   "execution_count": 10,
   "id": "949b42f9",
   "metadata": {},
   "outputs": [],
   "source": [
    "#Using GEEMAP basemaps\n",
    "Map= geemap.Map()"
   ]
  },
  {
   "cell_type": "code",
   "execution_count": 11,
   "id": "56ea55c6",
   "metadata": {},
   "outputs": [],
   "source": [
    "#ESRI Global Sentinel-2 10m land use/land cover time series\n",
    "\n",
    "# Filter the Land Cover data Collection by date, AOI and cover\n",
    "start_date = '2023-01-01'\n",
    "end_date = '2023-12-31'\n",
    "\n",
    "lulc_data= ee.ImageCollection(\"projects/sat-io/open-datasets/landcover/ESRI_Global-LULC_10m_TS\").filterDate(start_date,end_date).filterBounds(GH_geojson);\n",
    "\n",
    "\n",
    "# Check if there are any images available\n",
    "count = lulc_data.size().getInfo()\n",
    "if count == 0:\n",
    "    print(\"No images available for the specified criteria.\")\n"
   ]
  },
  {
   "cell_type": "code",
   "execution_count": 12,
   "id": "6bfa1509",
   "metadata": {},
   "outputs": [],
   "source": [
    "# Clip the Land cover data to the shapefile \n",
    "lulc_clip = lulc_data.map(lambda image: image.clip(GH_geojson))"
   ]
  },
  {
   "cell_type": "code",
   "execution_count": 13,
   "id": "cb2f2dfe",
   "metadata": {},
   "outputs": [],
   "source": [
    "# Define a dictionary which will be used to make legend and visualize image on map\n",
    "legend_dict = {\n",
    "    1: \"Water\",\n",
    "    2: \"Trees\",\n",
    "    4: \"Flooded Vegetation\",\n",
    "    5: \"Crops\",\n",
    "    7: \"Built Area\",\n",
    "    11: \"Rangeland\"  \n",
    "}\n",
    "\n",
    "legend_colors = {\n",
    "    \"Water\": \"#1A5BAB\",\n",
    "    \"Trees\": \"#358221\",\n",
    "    \"Flooded Vegetation\": \"#87D19E\",\n",
    "    \"Crops\": \"#FFDB5C\",\n",
    "    \"Built Area\": \"#ED022A\",\n",
    "    \"Rangeland\": \"#C6AD8D\"  \n",
    "}\n",
    "\n",
    "# Remapping values\n",
    "remap_values = {\n",
    "    1: 1,\n",
    "    2: 2,\n",
    "    4: 3,\n",
    "    5: 4,\n",
    "    7: 5,\n",
    "    11: 6\n",
    "}\n"
   ]
  },
  {
   "cell_type": "code",
   "execution_count": 14,
   "id": "952991ca",
   "metadata": {},
   "outputs": [],
   "source": [
    "# Create a mosaic image from the ImageCollection and remap the values\n",
    "lulc_clip_mosaic = lulc_clip.mosaic().select('b1').remap(list(remap_values.keys()), list(remap_values.values()))"
   ]
  },
  {
   "cell_type": "code",
   "execution_count": 15,
   "id": "f8f1a3df",
   "metadata": {},
   "outputs": [],
   "source": [
    "# Add image to the map\n",
    "lulc_viz = {\n",
    "    'min': 1,\n",
    "    'max': 6,\n",
    "    'palette': [legend_colors[legend_dict[i]] for i in sorted(legend_dict.keys())]\n",
    "}\n",
    "Map.addLayer(lulc_clip_mosaic, lulc_viz, '2023 ESRI LULC 10m')"
   ]
  },
  {
   "cell_type": "code",
   "execution_count": 16,
   "id": "3abe1023",
   "metadata": {},
   "outputs": [],
   "source": [
    "# Add a legend to the map using geemap's built-in function\n",
    "Map.add_legend(legend_title='ESRI 2023 Land Cover', legend_dict=legend_colors)"
   ]
  },
  {
   "cell_type": "code",
   "execution_count": 17,
   "id": "eb285c28",
   "metadata": {},
   "outputs": [],
   "source": [
    "# Center the map on the shapefile\n",
    "Map.centerObject(GH_geojson, 7)  "
   ]
  },
  {
   "cell_type": "code",
   "execution_count": 18,
   "id": "89748f89",
   "metadata": {},
   "outputs": [
    {
     "data": {
      "application/vnd.jupyter.widget-view+json": {
       "model_id": "5befa9ec09a648d4ad3c14a74c5dbf71",
       "version_major": 2,
       "version_minor": 0
      },
      "text/plain": [
       "Map(center=[7.96388656439195, -1.2082882642458035], controls=(WidgetControl(options=['position', 'transparent_…"
      ]
     },
     "metadata": {},
     "output_type": "display_data"
    }
   ],
   "source": [
    "# Display the map\n",
    "Map.addLayerControl()  # This will add a layer control panel to the map.\n",
    "Map"
   ]
  },
  {
   "cell_type": "markdown",
   "id": "36bbff62",
   "metadata": {},
   "source": [
    "*NB: This map uses an updated model 2023 from the 10-class model and combines Grass(formerly class 3) and Scrub (formerly class 6) into a single Rangeland class (class 11). \n",
    "The original Esri 2020 Land Cover collection uses 10 classes (Grass and Scrub separate) and an older version of the underlying deep learning model*."
   ]
  },
  {
   "cell_type": "code",
   "execution_count": 22,
   "id": "45b58cf2",
   "metadata": {},
   "outputs": [],
   "source": [
    "# Function to calculate the percentage of each land cover class\n",
    "def calculate_land_cover_statistics(image, scale, region):\n",
    "    # Calculate the area of each land cover class\n",
    "    class_areas = image.reduceRegion(\n",
    "        reducer=ee.Reducer.frequencyHistogram(),\n",
    "        geometry=GH_geojson,\n",
    "        scale=scale,\n",
    "        maxPixels=1e10\n",
    "    ).getInfo()\n",
    "    \n",
    "    if class_areas is None or not class_areas:\n",
    "        print(\"No data returned from reduceRegion operation.\")\n",
    "        return {}\n",
    "    \n",
    "    # Extract the classification histogram\n",
    "    classification_histogram = class_areas.get('b1')\n",
    "    \n",
    "    if classification_histogram is None:\n",
    "        print(\"Unable to retrieve the classification histogram from the image.\")\n",
    "        print(\"class_areas:\", class_areas)\n",
    "        return {}\n",
    "        \n",
    "    # Print the classification histogram to debug\n",
    "    print(\"Classification Histogram:\", classification_histogram)\n",
    "    \n",
    "    # Calculate the total area\n",
    "    total_area = sum(classification_histogram.values())\n",
    "    \n",
    "    # Calculate the percentage and area (in square kilometers) of each class\n",
    "    class_percentages = {}\n",
    "    class_areas_km2 = {}\n",
    "    for key, value in classification_histogram.items():\n",
    "        class_name = legend_dict.get(int(key), \"Unknown Class\")\n",
    "        percentage = (value / total_area) * 100\n",
    "        area_km2 = (value * scale * scale) / 1e6  # Convert area from m^2 to km^2\n",
    "        class_percentages[class_name] = percentage\n",
    "        class_areas_km2[class_name] = area_km2\n",
    "    \n",
    "    return class_percentages, class_areas_km2"
   ]
  },
  {
   "cell_type": "code",
   "execution_count": 23,
   "id": "aa47498a",
   "metadata": {},
   "outputs": [
    {
     "name": "stdout",
     "output_type": "stream",
     "text": [
      "Classification Histogram: {'1': 10129111.2627451, '10': 32777.141176470584, '11': 120509808.12156862, '2': 119986067.31764702, '3': 4, '4': 949502.0705882353, '5': 8101324.882352941, '6': 38, '7': 10718748.83921569, '8': 102475.59999999999, '9': 17.75294117647059}\n",
      "Water: 3.74% - 9116.20 km²\n",
      "Trees: 44.35% - 107987.46 km²\n",
      "Flooded Vegetation: 0.35% - 854.55 km²\n",
      "Crops: 2.99% - 7291.19 km²\n",
      "Built Area: 3.96% - 9646.87 km²\n",
      "Rangeland: 44.55% - 108458.83 km²\n"
     ]
    }
   ],
   "source": [
    "# Calculate the percentage and area (in square kilometers) of each class\n",
    "\n",
    "lulc_clip_mosaic = lulc_clip.mosaic()\n",
    "scale = 30  # Adjust the scale as needed\n",
    "region = GH_geojson\n",
    "land_cover_percentages, land_cover_areas_km2 = calculate_land_cover_statistics(lulc_clip_mosaic , scale, region)\n",
    "\n",
    "# Print the percentages and areas\n",
    "if land_cover_percentages and land_cover_areas_km2:\n",
    "    for lc_class in legend_dict.values():\n",
    "        percentage = land_cover_percentages.get(lc_class, 0)\n",
    "        area_km2 = land_cover_areas_km2.get(lc_class, 0)\n",
    "        print(f\"{lc_class}: {percentage:.2f}% - {area_km2:.2f} km²\")"
   ]
  },
  {
   "cell_type": "code",
   "execution_count": 24,
   "id": "191504c6",
   "metadata": {},
   "outputs": [
    {
     "data": {
      "image/png": "[encoded data removed]",
      "text/plain": [
       "<Figure size 864x576 with 2 Axes>"
      ]
     },
     "metadata": {
      "needs_background": "light"
     },
     "output_type": "display_data"
    }
   ],
   "source": [
    "# Visualize the classification statistics as a dual-axis bar chart\n",
    "if land_cover_percentages and land_cover_areas_km2:\n",
    "    # Extract class names, percentages, and areas for plotting\n",
    "    class_names = [c for c in legend_dict.values() if c in land_cover_percentages and c in legend_colors]\n",
    "    percentages = [land_cover_percentages[c] for c in class_names]\n",
    "    areas_km2 = [land_cover_areas_km2[c] for c in class_names]\n",
    "    colors = [legend_colors[c] for c in class_names]\n",
    "    \n",
    "    # Create figure and axis objects\n",
    "    fig, ax1 = plt.subplots(figsize=(12, 8))\n",
    "    \n",
    "    # Plot bars on primary y-axis (area in km²)\n",
    "    bars = ax1.bar(class_names, areas_km2, color=colors, alpha=1.0, label='Area (km²)')\n",
    "    ax1.set_ylabel('Area (km²)', fontsize=12)\n",
    "    ax1.set_xlabel('Land Cover Classes', fontsize=12, fontweight='bold')\n",
    "    \n",
    "    # Create a secondary y-axis for percentages\n",
    "    ax2 = ax1.twinx()\n",
    "    ax2.plot(class_names, percentages, color='r', marker='o', linestyle='-', label='Percentage (%)')\n",
    "    ax2.set_ylabel('Percentage (%)', fontsize=12)\n",
    "    \n",
    "    # Add legends and grid\n",
    "    ax1.legend(loc='upper right')\n",
    "    ax2.legend(loc='upper left')\n",
    "    ax1.grid(True)\n",
    "    ax2.grid(False)\n",
    "    \n",
    "    # Adjust layout and display the plot\n",
    "    fig.tight_layout()\n",
    "    plt.title('ESRI 2023 Land Cover Distribution of Ghana', fontsize=16, fontweight='bold', fontstyle='italic')\n",
    "    plt.show()"
   ]
  },
  {
   "cell_type": "code",
   "execution_count": null,
   "id": "cad5c4aa",
   "metadata": {},
   "outputs": [],
   "source": []
  },
  {
   "cell_type": "markdown",
   "id": "e039323c",
   "metadata": {},
   "source": [
    "| Land Cover Class       | Percentage (%) | Area (km²)   |\n",
    "|------------------------|----------------|--------------|\n",
    "| Water                  | 3.74           | 9116.20      |\n",
    "| Trees                  | 44.35          | 107987.46    |\n",
    "| Flooded Vegetation     | 0.35           | 854.55       |\n",
    "| Crops                  | 2.99           | 7291.19      |\n",
    "| Built Area             | 3.96           | 9646.87      |\n",
    "| Rangeland              | 44.55          | 108458.83    |"
   ]
  },
  {
   "cell_type": "code",
   "execution_count": 29,
   "id": "762090a1",
   "metadata": {},
   "outputs": [
    {
     "ename": "OSError",
     "evalue": "\nNo wkhtmltoimage executable found: \"command not found\"\nIf this file exists please check that this process can read it.\nOtherwise please install wkhtmltopdf - http://wkhtmltopdf.org\n\n        ",
     "output_type": "error",
     "traceback": [
      "\u001b[1;31m---------------------------------------------------------------------------\u001b[0m",
      "\u001b[1;31mOSError\u001b[0m                                   Traceback (most recent call last)",
      "Input \u001b[1;32mIn [29]\u001b[0m, in \u001b[0;36m<cell line: 31>\u001b[1;34m()\u001b[0m\n\u001b[0;32m     23\u001b[0m options \u001b[38;5;241m=\u001b[39m {\n\u001b[0;32m     24\u001b[0m     \u001b[38;5;124m'\u001b[39m\u001b[38;5;124mformat\u001b[39m\u001b[38;5;124m'\u001b[39m: \u001b[38;5;124m'\u001b[39m\u001b[38;5;124mpng\u001b[39m\u001b[38;5;124m'\u001b[39m,\n\u001b[0;32m     25\u001b[0m     \u001b[38;5;124m'\u001b[39m\u001b[38;5;124mencoding\u001b[39m\u001b[38;5;124m'\u001b[39m: \u001b[38;5;124m\"\u001b[39m\u001b[38;5;124mUTF-8\u001b[39m\u001b[38;5;124m\"\u001b[39m,\n\u001b[0;32m     26\u001b[0m     \u001b[38;5;124m'\u001b[39m\u001b[38;5;124mquiet\u001b[39m\u001b[38;5;124m'\u001b[39m: \u001b[38;5;124m'\u001b[39m\u001b[38;5;124m'\u001b[39m,\n\u001b[0;32m     27\u001b[0m     \u001b[38;5;124m'\u001b[39m\u001b[38;5;124mwidth\u001b[39m\u001b[38;5;124m'\u001b[39m: \u001b[38;5;124m'\u001b[39m\u001b[38;5;124m800\u001b[39m\u001b[38;5;124m'\u001b[39m  \u001b[38;5;66;03m# Increase width for larger image\u001b[39;00m\n\u001b[0;32m     28\u001b[0m }\n\u001b[0;32m     30\u001b[0m \u001b[38;5;66;03m# Convert HTML content to PNG image\u001b[39;00m\n\u001b[1;32m---> 31\u001b[0m \u001b[43mimgkit\u001b[49m\u001b[38;5;241;43m.\u001b[39;49m\u001b[43mfrom_string\u001b[49m\u001b[43m(\u001b[49m\u001b[43mhtml_content\u001b[49m\u001b[43m,\u001b[49m\u001b[43m \u001b[49m\u001b[43mout_img\u001b[49m\u001b[43m,\u001b[49m\u001b[43m \u001b[49m\u001b[43moptions\u001b[49m\u001b[38;5;241;43m=\u001b[39;49m\u001b[43moptions\u001b[49m\u001b[43m)\u001b[49m\n",
      "File \u001b[1;32m~\\anaconda3\\envs\\MscGis_Project1-env\\lib\\site-packages\\imgkit\\api.py:98\u001b[0m, in \u001b[0;36mfrom_string\u001b[1;34m(string, output_path, options, toc, cover, css, config, cover_first)\u001b[0m\n\u001b[0;32m     75\u001b[0m \u001b[38;5;28;01mdef\u001b[39;00m \u001b[38;5;21mfrom_string\u001b[39m(\n\u001b[0;32m     76\u001b[0m     string,\n\u001b[0;32m     77\u001b[0m     output_path,\n\u001b[1;32m   (...)\u001b[0m\n\u001b[0;32m     83\u001b[0m     cover_first\u001b[38;5;241m=\u001b[39m\u001b[38;5;28;01mNone\u001b[39;00m,\n\u001b[0;32m     84\u001b[0m ):\n\u001b[0;32m     85\u001b[0m     \u001b[38;5;124;03m\"\"\"\u001b[39;00m\n\u001b[0;32m     86\u001b[0m \u001b[38;5;124;03m    Convert given string/strings to IMG file\u001b[39;00m\n\u001b[0;32m     87\u001b[0m \n\u001b[1;32m   (...)\u001b[0m\n\u001b[0;32m     96\u001b[0m \u001b[38;5;124;03m    :return: True when success\u001b[39;00m\n\u001b[0;32m     97\u001b[0m \u001b[38;5;124;03m    \"\"\"\u001b[39;00m\n\u001b[1;32m---> 98\u001b[0m     rtn \u001b[38;5;241m=\u001b[39m \u001b[43mIMGKit\u001b[49m\u001b[43m(\u001b[49m\n\u001b[0;32m     99\u001b[0m \u001b[43m        \u001b[49m\u001b[43mstring\u001b[49m\u001b[43m,\u001b[49m\n\u001b[0;32m    100\u001b[0m \u001b[43m        \u001b[49m\u001b[38;5;124;43m\"\u001b[39;49m\u001b[38;5;124;43mstring\u001b[39;49m\u001b[38;5;124;43m\"\u001b[39;49m\u001b[43m,\u001b[49m\n\u001b[0;32m    101\u001b[0m \u001b[43m        \u001b[49m\u001b[43moptions\u001b[49m\u001b[38;5;241;43m=\u001b[39;49m\u001b[43moptions\u001b[49m\u001b[43m,\u001b[49m\n\u001b[0;32m    102\u001b[0m \u001b[43m        \u001b[49m\u001b[43mtoc\u001b[49m\u001b[38;5;241;43m=\u001b[39;49m\u001b[43mtoc\u001b[49m\u001b[43m,\u001b[49m\n\u001b[0;32m    103\u001b[0m \u001b[43m        \u001b[49m\u001b[43mcover\u001b[49m\u001b[38;5;241;43m=\u001b[39;49m\u001b[43mcover\u001b[49m\u001b[43m,\u001b[49m\n\u001b[0;32m    104\u001b[0m \u001b[43m        \u001b[49m\u001b[43mcss\u001b[49m\u001b[38;5;241;43m=\u001b[39;49m\u001b[43mcss\u001b[49m\u001b[43m,\u001b[49m\n\u001b[0;32m    105\u001b[0m \u001b[43m        \u001b[49m\u001b[43mconfig\u001b[49m\u001b[38;5;241;43m=\u001b[39;49m\u001b[43mconfig\u001b[49m\u001b[43m,\u001b[49m\n\u001b[0;32m    106\u001b[0m \u001b[43m        \u001b[49m\u001b[43mcover_first\u001b[49m\u001b[38;5;241;43m=\u001b[39;49m\u001b[43mcover_first\u001b[49m\u001b[43m,\u001b[49m\n\u001b[0;32m    107\u001b[0m \u001b[43m    \u001b[49m\u001b[43m)\u001b[49m\n\u001b[0;32m    108\u001b[0m     \u001b[38;5;28;01mreturn\u001b[39;00m rtn\u001b[38;5;241m.\u001b[39mto_img(output_path)\n",
      "File \u001b[1;32m~\\anaconda3\\envs\\MscGis_Project1-env\\lib\\site-packages\\imgkit\\imgkit.py:36\u001b[0m, in \u001b[0;36mIMGKit.__init__\u001b[1;34m(self, url_or_file, source_type, options, config, **kwargs)\u001b[0m\n\u001b[0;32m     34\u001b[0m \u001b[38;5;28mself\u001b[39m\u001b[38;5;241m.\u001b[39msource \u001b[38;5;241m=\u001b[39m Source(url_or_file, source_type)\n\u001b[0;32m     35\u001b[0m \u001b[38;5;28mself\u001b[39m\u001b[38;5;241m.\u001b[39mconfig \u001b[38;5;241m=\u001b[39m Config() \u001b[38;5;28;01mif\u001b[39;00m \u001b[38;5;129;01mnot\u001b[39;00m config \u001b[38;5;28;01melse\u001b[39;00m config\n\u001b[1;32m---> 36\u001b[0m \u001b[38;5;28mself\u001b[39m\u001b[38;5;241m.\u001b[39mwkhtmltoimage \u001b[38;5;241m=\u001b[39m \u001b[38;5;28;43mself\u001b[39;49m\u001b[38;5;241;43m.\u001b[39;49m\u001b[43mconfig\u001b[49m\u001b[38;5;241;43m.\u001b[39;49m\u001b[43mget_wkhtmltoimage\u001b[49m\u001b[43m(\u001b[49m\u001b[43m)\u001b[49m\n\u001b[0;32m     38\u001b[0m \u001b[38;5;28mself\u001b[39m\u001b[38;5;241m.\u001b[39moptions \u001b[38;5;241m=\u001b[39m {}\n\u001b[0;32m     39\u001b[0m \u001b[38;5;28;01mif\u001b[39;00m \u001b[38;5;28mself\u001b[39m\u001b[38;5;241m.\u001b[39msource\u001b[38;5;241m.\u001b[39misString():\n",
      "File \u001b[1;32m~\\anaconda3\\envs\\MscGis_Project1-env\\lib\\site-packages\\imgkit\\config.py:57\u001b[0m, in \u001b[0;36mConfig.get_wkhtmltoimage\u001b[1;34m(self)\u001b[0m\n\u001b[0;32m     55\u001b[0m         raise_from(\u001b[38;5;167;01mOSError\u001b[39;00m(wkhtmltoimage_error), io_error)\n\u001b[0;32m     56\u001b[0m \u001b[38;5;28;01melse\u001b[39;00m:\n\u001b[1;32m---> 57\u001b[0m     \u001b[38;5;28;01mraise\u001b[39;00m \u001b[38;5;167;01mOSError\u001b[39;00m(wkhtmltoimage_error)\n\u001b[0;32m     59\u001b[0m \u001b[38;5;28;01mreturn\u001b[39;00m \u001b[38;5;28mself\u001b[39m\u001b[38;5;241m.\u001b[39mwkhtmltoimage\n",
      "\u001b[1;31mOSError\u001b[0m: \nNo wkhtmltoimage executable found: \"command not found\"\nIf this file exists please check that this process can read it.\nOtherwise please install wkhtmltopdf - http://wkhtmltopdf.org\n\n        "
     ]
    }
   ],
   "source": [
    "import markdown2\n",
    "import imgkit\n",
    "\n",
    "# Define the markdown content\n",
    "markdown_content = \"\"\"\n",
    "| Land Cover Class       | Percentage (%) | Area (km²)   |\n",
    "|------------------------|----------------|--------------|\n",
    "| Water                  | 3.74           | 9116.20      |\n",
    "| Trees                  | 44.35          | 107987.46    |\n",
    "| Flooded Vegetation     | 0.35           | 854.55       |\n",
    "| Crops                  | 2.99           | 7291.19      |\n",
    "| Built Area             | 3.96           | 9646.87      |\n",
    "| Rangeland              | 44.55          | 108458.83    |\n",
    "\"\"\"\n",
    "\n",
    "# Convert the markdown content to HTML\n",
    "html_content = markdown2.markdown(markdown_content)\n",
    "\n",
    "# Specify the path where you want to save the PNG\n",
    "out_img = 'C:/Users/user/Documents/GEEMAP Projects/Land cover 2023/GH_2023LandCoverTable.png'\n",
    "\n",
    "# Specify options for imgkit\n",
    "options = {\n",
    "    'format': 'png',\n",
    "    'encoding': \"UTF-8\",\n",
    "    'quiet': '',\n",
    "    'width': '800'  # Increase width for larger image\n",
    "}\n",
    "\n",
    "# Convert HTML content to PNG image\n",
    "imgkit.from_string(html_content, out_img, options=options)"
   ]
  },
  {
   "cell_type": "code",
   "execution_count": null,
   "id": "d2254a97",
   "metadata": {},
   "outputs": [],
   "source": []
  },
  {
   "cell_type": "code",
   "execution_count": null,
   "id": "5dcd18b7",
   "metadata": {},
   "outputs": [],
   "source": []
  },
  {
   "cell_type": "code",
   "execution_count": null,
   "id": "7011402f",
   "metadata": {},
   "outputs": [],
   "source": []
  }
 ],
 "metadata": {
  "kernelspec": {
   "display_name": "MscGis_Project1-env",
   "language": "python",
   "name": "mscgis_project1-env"
  },
  "language_info": {
   "codemirror_mode": {
    "name": "ipython",
    "version": 3
   },
   "file_extension": ".py",
   "mimetype": "text/x-python",
   "name": "python",
   "nbconvert_exporter": "python",
   "pygments_lexer": "ipython3",
   "version": "3.10.5"
  }
 },
 "nbformat": 4,
 "nbformat_minor": 5
}
